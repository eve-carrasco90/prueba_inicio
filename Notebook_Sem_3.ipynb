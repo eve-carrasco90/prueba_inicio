{
 "cells": [
  {
   "cell_type": "markdown",
   "metadata": {
    "id": "ksDMQevI1ha-"
   },
   "source": [
    "#         **Semana 3 Introducción a la programación con Python**"
   ]
  },
  {
   "cell_type": "markdown",
   "metadata": {
    "id": "LnKzxbbT1mag"
   },
   "source": [
    "Esta semana analizaremos:\n",
    "\n",
    "**Diccionarios:**\n",
    "* Creación y uso de diccionarios.\n",
    "* Operaciones sobre diccionarios.\n",
    "* Listas como valores del diccionario.\n",
    "* Diccionarios anidados.\n",
    "* Ejercios propuestos.\n",
    "\n",
    "**Control de versiones:**\n",
    "* ¿Por qué es importante?\n",
    "* Git y GitHub.\n",
    "* ¿Cómo configurar Git y GitHub?\n",
    "\n",
    "**Entornos virtuales**\n",
    "* Qué son y para qué sirven.\n",
    "* ¿Por qué usar entornos virtuales?\n",
    "* Cómo funciona Python en los entornos virtuales.\n",
    "* Ejemplos de entornos virtuales.\n",
    "* Jupyter Notebook.\n",
    "* Diferencias y similitudes entre Google Colab y Jupyter Notebook.\n",
    "* Configuración de Miniconda y Jupyter Notebook."
   ]
  },
  {
   "cell_type": "markdown",
   "metadata": {
    "id": "j4GSbWrO2NSH"
   },
   "source": [
    "## **Diccionarios**"
   ]
  },
  {
   "cell_type": "markdown",
   "metadata": {
    "id": "uRZchjpM2-Xx"
   },
   "source": [
    "Los diccionarios son estructuras de datos que almacenan pares clave-valor.\n",
    "\n",
    "Cada valor en el diccionario está asociado con una clave única, lo que facilita la recuperación de datos cuando se conoce la clave correspondiente.\n",
    "\n",
    "Haciendo un paralelo con las listas, podriamos considerar que la clave del diccionario es similar al índice (posición) de los elementos en una lista."
   ]
  },
  {
   "cell_type": "markdown",
   "metadata": {
    "id": "D8TbqdGurcS-"
   },
   "source": [
    "> ***Diferencias entre listas y diccionarios***\n",
    "\n",
    "**Listas:**\n",
    "\n",
    "* Útiles cuando necesitamos almacenar elementos de forma secuencial y ordenada, como números, nombres o tareas.\n",
    "* Ideales para operaciones iterativas donde el orden importa, como recorrer todos los elementos, buscar valores específicos o realizar cálculos como promedios.\n",
    "\n",
    "**Diccionarios:**\n",
    "\n",
    "* Perfectos para representar datos estructurados donde cada elemento está asociado a una clave única, como información de registros, perfiles de usuarios o productos con características específicas.\n",
    "* Ideales para búsquedas rápidas y para modelar relaciones más complejas entre los datos."
   ]
  },
  {
   "cell_type": "markdown",
   "metadata": {
    "id": "5viyn7TQ4m0u"
   },
   "source": [
    "### **Creación y uso de diccionarios**"
   ]
  },
  {
   "cell_type": "markdown",
   "metadata": {
    "id": "Rj_9z_a05F-2"
   },
   "source": [
    "Los diccionarios se crean utilizando llaves {} y se definen los pares clave-valor separados por dos puntos.\n",
    "\n",
    "Analicemos el siguiente ejemplo:\n",
    "\n",
    "[Ejemplo creación de un diccionario](https://drive.google.com/file/d/1nYAEpdaSpZVaWKGkcUeo0k_G-KLjzBnN/view?usp=sharing)\n",
    "\n",
    "**Explicación:**\n",
    "* El diccionario estudiante tiene tres pares clave-valor.\n",
    "* Se accede a los valores utilizando las claves (“nombre”, “edad”, “curso”).\n",
    "* print (estudiante). Con esta instrucción mostramos todos los elementos del diccionario.\n",
    "* print (estudiante[“nombre”]). Aquí mostramos el valor asociado a la clave “nombre”, en este caso, el nombre “Juan”.\n",
    "* print (estudiante[“curso”]). En este caso mostraremos en pantalla el valor asociado a “curso”."
   ]
  },
  {
   "cell_type": "code",
   "execution_count": null,
   "metadata": {
    "id": "gFYfb4U0GLNL"
   },
   "outputs": [],
   "source": [
    "# EJEMPLO DE CREACIÓN DE UN DICCIONARIO\n",
    "# Diccionario vacío\n",
    "estudiante ={} # Usamos {} para crear el diccionario\n",
    "# Agregar datos al diccionario\n",
    "# Atención con la sintaxis\n",
    "estudiante ={\n",
    "     \"nombre\": \"Juan\",\n",
    "     \"edad\": 20,\n",
    "     \"curso\": \"Python\"\n",
    "}\n",
    "# Mostremos los datos\n",
    "print (\"Todos los datos del diccionario (clave y valor):\", estudiante) # Aquí mostramos todo el diciconario\n",
    "print (\"El nombre del estudisnte:\", estudiante[\"nombre\"]) # Aquí mostramos el valor asociado a la clave \"nombre\"\n",
    "print (\"La edad del estudiante:\", estudiante[\"edad\"]) # Aquí mostramos el valor asociado a la clave \"edad\"\n",
    "print (\"El curso del estudiante\", estudiante[\"curso\"]) # Aquí mostramos el valor asociado a la clave \"curso\"\n",
    "print (\"El tipo de datos de la estructura estudiante:\", type(estudiante)) # Aquí mostramos el tipo de dato de estudiante\n",
    "print (\"El largo del diccionario estudiante:\", len(estudiante)) # Aquí mostramos la longitud del diccionario\n"
   ]
  },
  {
   "cell_type": "markdown",
   "metadata": {
    "id": "5_ospYK-ZCLS"
   },
   "source": [
    "### **Operaciones sobre diccionarios**"
   ]
  },
  {
   "cell_type": "markdown",
   "metadata": {
    "id": "tiCnjtmlZRYq"
   },
   "source": [
    "**Agregar elementos**\n",
    "* Para agregar un nuevo elemento, basta con crear una clave y un valor.\n",
    "* Ejemplo: estudiante[\"asignatura\"]= \"Inglés\"\n",
    "\n",
    "**Actualizar elementos**  \n",
    "* Para actualizar un valor, basta con asignar un nuevo valor a una clave que ya existe en el diccionario.\n",
    "* ejemplo: estudiante[\"edad\"]= 25\n",
    "\n",
    "**Acceder a un elemento**\n",
    "* Podemos acceder a los valores usando las claves.\n",
    "* Si una clave no existe, se genera un error, pero con .get() podemos evitarlo."
   ]
  },
  {
   "cell_type": "code",
   "execution_count": null,
   "metadata": {
    "id": "lX87zhJALNIi"
   },
   "outputs": [],
   "source": [
    "# EJEMPLO USO DE get\n",
    "\n",
    "# Diccionario estudiante\n",
    "estudiante ={} # Usamos {} para crear el diccionario\n",
    "# Agregar datos al diccionario\n",
    "# Atención con la sintaxis\n",
    "estudiante ={\n",
    "     \"nombre\": \"Juan\",\n",
    "     \"edad\": 20,\n",
    "     \"curso\": \"Python\"\n",
    "}\n",
    "# Agregamos la asignatura inglés\n",
    "estudiante[\"asignatura\"]= \"Inglés\"\n",
    "\n",
    "# Mostramos el diccionario actualizado\n",
    "print (\"Datos de estudiante actualizados:\", estudiante)\n",
    "\n",
    "# Pidamos que el usuario nos indique la clave\n",
    "clave= input (\"Ingrese la clave que desea buscar:\") # Qué pasa si la clave no existe\n",
    "# Usaremos el método get para asegurarnos de mostrar un mensaje en caso de que la clave no exista\n",
    "# Valor toma dos valores. Si la clave existe, se mostrará el valor asociado, en csso contario, valor tomará el mensaje\n",
    "valor = estudiante.get(clave, \"La clave no existe\")\n",
    "if valor != \"La clave no existe\":\n",
    "  print (\"El valor asociado con la clave\", clave, \"es:\",valor)\n",
    "else:\n",
    "  print (valor)\n",
    "\n",
    "# En caso de que la clave no exista, ¿cómo podemos ingresarla al diccionario?\n"
   ]
  },
  {
   "cell_type": "markdown",
   "metadata": {
    "id": "N-KcuqHcOzow"
   },
   "source": [
    "**Eliminar elementos**\n",
    "* Usando del: del mi_diccionario[\"clave1\"]\n",
    "\n",
    "**Obtener claves del diccionario**\n",
    "* Usando keys: claves = mi_diccionario.keys()\n",
    "* También podriamos convertir la variable claves a una lista, usando el constructor list().\n",
    "\n"
   ]
  },
  {
   "cell_type": "code",
   "execution_count": null,
   "metadata": {
    "id": "-B4Fla_JQN2f"
   },
   "outputs": [],
   "source": [
    "# EJEMPLO DE USO DE keys y list()\n",
    "\n",
    "# Diccionario estudiante\n",
    "estudiante ={} # Usamos {} para crear el diccionario\n",
    "# Agregar datos al diccionario\n",
    "# Atención con la sintaxis\n",
    "estudiante ={\n",
    "     \"nombre\": \"Juan\",\n",
    "     \"edad\": 20,\n",
    "     \"curso\": \"Python\",\n",
    "     \"asignatura\": \"Inglés\"\n",
    "}\n",
    "\n",
    "# Usamos keys para obtener las claves\n",
    "claves= estudiante.keys()\n",
    "# Mostramos el pantalla las claves\n",
    "print (\"Atención, la salida parece una lista pero no lo es:\", claves)\n",
    "print (\"Este es el tipo de datos de clave:\", type(claves))\n",
    "\n",
    "# Ahora transformemos la variable claves a una lista\n",
    "claves= list(estudiante.keys()) # Usamos el constructor list()\n",
    "print (\"Ahora sí es una lista:\", claves)\n",
    "print (\"El tipo de datos de claves es:\", type(claves))\n"
   ]
  },
  {
   "cell_type": "markdown",
   "metadata": {
    "id": "jz96P0XHSGkJ"
   },
   "source": [
    "**Obtener valores del diccionario**\n",
    "* Usando values: valores = mi_diccionario.values()\n",
    "* También podriamos convertir la variable valores a una lista, usando el constructor list()."
   ]
  },
  {
   "cell_type": "code",
   "execution_count": null,
   "metadata": {
    "id": "FyQorOTASZ7r"
   },
   "outputs": [],
   "source": [
    "# EJEMPLO DE USO DE values y list()\n",
    "\n",
    "# Diccionario estudiante\n",
    "estudiante ={} # Usamos {} para crear el diccionario\n",
    "# Agregar datos al diccionario\n",
    "# Atención con la sintaxis\n",
    "estudiante ={\n",
    "     \"nombre\": \"Juan\",\n",
    "     \"edad\": 20,\n",
    "     \"curso\": \"Python\",\n",
    "     \"asignatura\": \"Inglés\"\n",
    "}\n",
    "\n",
    "# Usamos values para obtener las claves\n",
    "valores= estudiante.values()\n",
    "# Mostramos el pantalla las claves\n",
    "print (\"Atención, la salida parece una lista pero no lo es:\", valores)\n",
    "print (\"Este es el tipo de datos de valores:\", type(valores))\n",
    "\n",
    "# Ahora transformemos la variable valores a una lista\n",
    "valores= list(estudiante.values()) # Usamos el constructor list()\n",
    "print (\"Ahora sí es una lista:\", valores)\n",
    "print (\"El tipo de datos de claves es:\", type(valores))\n"
   ]
  },
  {
   "cell_type": "markdown",
   "metadata": {
    "id": "yPfPE0Y9Tllg"
   },
   "source": [
    "**Recorrer las claves y valores del diccionario**\n",
    "\n",
    "Para recorrer los elementos de un diccionario, podemos usar un ciclo for combiando con values(), keys() o items(), en caso que queramos mostar los valores, las claves o ambos.\n",
    "\n",
    "\n",
    "\n",
    "\n",
    "\n"
   ]
  },
  {
   "cell_type": "code",
   "execution_count": null,
   "metadata": {
    "id": "cM7CULg5VEvz"
   },
   "outputs": [],
   "source": [
    "# EJEMPLO DE USO DE FOR PARA RECORRER EL DICCIONARIO\n",
    "\n",
    "# Diccionario estudiante\n",
    "estudiante ={} # Usamos {} para crear el diccionario\n",
    "# Agregar datos al diccionario\n",
    "# Atención con la sintaxis\n",
    "estudiante ={\n",
    "     \"nombre\": \"Juan\",\n",
    "     \"edad\": 20,\n",
    "     \"curso\": \"Python\",\n",
    "     \"asignatura\": \"Inglés\"\n",
    "}\n",
    "\n",
    "# Caso 1. Mostremos solo los valores\n",
    "for valor in estudiante.values(): # Valor es la variable que va recorriendo los valores\n",
    "  print (\"Valor:\", valor)\n",
    "print (\"#########################\")\n",
    "# Caso 2. Mostremos solo las claves\n",
    "for clave in estudiante.keys(): # Clave es la variable que va recorriendo las claves\n",
    "  print (\"Clave:\", clave)\n",
    "print (\"#########################\")\n",
    "# Caso 3. Mostremos las claves y los valores\n",
    "for clave, valor in estudiante.items(): # Clave y valor son las variables que van recorriendo las claves y los valores\n",
    "  print (\"Clave:\", clave,\"; Valor:\", valor)\n",
    "\n",
    "# ¿Cómo podriamos aprovechar el ciclo for de la linea 23 para ir guardando las claves y los valores en dos lista?\n"
   ]
  },
  {
   "cell_type": "markdown",
   "metadata": {
    "id": "-2zJ73f1YYw8"
   },
   "source": [
    "### **Listas como valores del diccionario**\n",
    "\n",
    "* En un diccionario sus valores pueden ser listas simples o anidadas.\n",
    "* Por lo tanto, podemos aplicar todas las operaciones para trabajar con listas.\n"
   ]
  },
  {
   "cell_type": "code",
   "execution_count": null,
   "metadata": {
    "id": "818YEvOuZAOZ"
   },
   "outputs": [],
   "source": [
    "# EJEMPLO DE DICCIONARIO CON LISTAS COMO VALORES\n",
    "\n",
    "estudiante={\n",
    "    \"datos_personales\": [\"Juan\", \"Sáez\", \"Urrutia\"],\n",
    "    \"datos_academicos\": [\"Ingeniería\", \"Primer Año\", \"Diurno\"],\n",
    "    \"asignaturas\": [\"Inglés\", \"Física\", \"Matemáticas\"],\n",
    "    \"notas\": [[70,80,90], [75,37,100], [77,92,55]]\n",
    "\n",
    "}\n",
    "\n",
    "# Mostrar todo el diccionario\n",
    "print (estudiante)\n",
    "print (\"#################################################\")\n",
    "\n",
    "# Mostrar el largo del diccionario\n",
    "print (\" El largo del diccionario es:\", len(estudiante))\n",
    "print (\"#################################################\")\n",
    "\n",
    "# Mostrar solo las claves\n",
    "for clave in estudiante.keys():\n",
    "  print (clave)\n",
    "print (\"#################################################\")\n",
    "\n",
    "# Mostrar solo los valores\n",
    "for valores in estudiante.values():\n",
    "  print (valores)\n",
    "print (\"#################################################\")\n",
    "\n",
    "# Mostrar las claves y los valores\n",
    "for clave, valor in estudiante.items():\n",
    "  print (clave,\":\", valor)\n",
    "print (\"#################################################\")\n",
    "# CONSIDERANDO QUE LOS VALORES SON LISTAS:\n",
    "# CÓMO PODEMOS:\n",
    "\n",
    "# Mostar en pantalla solo las notas de física\n",
    "\n",
    "print (\"#################################################\")\n",
    "# Agregar una nueva nota en matemáticas\n",
    "\n",
    "print (\"#################################################\")\n",
    "\n",
    "# Dejar las asignaturas y las notas en una sola lista\n",
    "\n",
    "\n"
   ]
  },
  {
   "cell_type": "markdown",
   "metadata": {
    "id": "JgZO8oPu7ZFj"
   },
   "source": [
    "### **Diccionarios anidados**"
   ]
  },
  {
   "cell_type": "markdown",
   "metadata": {
    "id": "tVWk5Rt6awSM"
   },
   "source": [
    "En el ejemplo anterior, solo trabajamos con un estudiante.\n",
    "\n",
    "¿Qué pasaría si necesitamos tener los datos de más estudiantes?\n",
    "\n",
    "Podemos usar diccionarios anidados. En este caso, el valor asociado a una clave es un diccionario.\n",
    "\n"
   ]
  },
  {
   "cell_type": "code",
   "execution_count": null,
   "metadata": {
    "id": "HUrR8G-eoCPZ"
   },
   "outputs": [],
   "source": [
    "# EJEMPLO DE DICCIONARIO ANIDADO\n",
    "\n",
    "estudiantes = {\n",
    "    \"estudiante1\": {\n",
    "        \"datos_personales\": [\"Juan\", \"Sáez\", \"Urrutia\"],\n",
    "        \"datos_academicos\": [\"Ingeniería\", \"Primer Año\", \"Diurno\"],\n",
    "        \"asignaturas\": [\"Inglés\", \"Física\", \"Matemáticas\"],\n",
    "        \"notas\": [[70, 80, 90], [75, 37, 100], [77, 92, 55]]\n",
    "    },\n",
    "    \"estudiante2\": {\n",
    "        \"datos_personales\": [\"Ana\", \"Pérez\", \"Gutiérrez\"],\n",
    "        \"datos_academicos\": [\"Medicina\", \"Segundo Año\", \"Vespertino\"],\n",
    "        \"asignaturas\": [\"Biología\", \"Química\", \"Anatomía\"],\n",
    "        \"notas\": [[85, 90, 95], [70, 60, 80], [88, 92, 85]]\n",
    "    },\n",
    "    \"estudiante3\": {\n",
    "        \"datos_personales\": [\"Luis\", \"Martínez\", \"Flores\"],\n",
    "        \"datos_academicos\": [\"Derecho\", \"Tercer Año\", \"Diurno\"],\n",
    "        \"asignaturas\": [\"Derecho Penal\", \"Civil\", \"Procesal\"],\n",
    "        \"notas\": [[65, 70, 75], [90, 85, 88], [80, 77, 85]]\n",
    "    },\n",
    "    \"estudiante4\": {\n",
    "        \"datos_personales\": [\"Carla\", \"Ramírez\", \"Hernández\"],\n",
    "        \"datos_academicos\": [\"Arquitectura\", \"Primer Año\", \"Diurno\"],\n",
    "        \"asignaturas\": [\"Dibujo\", \"Historia del Arte\", \"Matemáticas\"],\n",
    "        \"notas\": [[78, 82, 85], [88, 92, 80], [70, 75, 90]]\n",
    "    }\n",
    "}\n",
    "\n",
    "\n",
    "# Mostrar todo el diccionario\n",
    "print (estudiantes)\n",
    "print (\"#################################################\")\n",
    "\n",
    "# Mostrar el largo del diccionario\n",
    "print (\" El largo del diccionario es:\", len(estudiantes))\n",
    "print (\"#################################################\")\n",
    "\n",
    "# Mostrar solo las claves\n",
    "for clave in estudiantes.keys():\n",
    "  print (clave)\n",
    "print (\"#################################################\")\n",
    "\n",
    "# Mostrar solo los valores\n",
    "for valores in estudiantes.values():\n",
    "  print (valores)\n",
    "print (\"#################################################\")\n",
    "\n",
    "# Mostrar las claves y los valores\n",
    "for clave, valor in estudiantes.items():\n",
    "  print (clave,\":\", valor)\n",
    "print (\"#################################################\")\n",
    "\n",
    "# CONSIDERANDO QUE LOS VALORES SON DICCIONARIOS Y LISTAS:\n",
    "# CÓMO PODEMOS:\n",
    "\n",
    "# Mostar en pantalla solo las notas de física del estudiante 2\n",
    "\n",
    "\n",
    "print (\"#################################################\")\n",
    "# Agregar una nueva nota en matemáticas para el estudiante 3\n",
    "\n",
    "print (\"#################################################\")\n",
    "\n",
    "# Calcular el promedio de física para el estudiante 4 y mostrarlo en pantalla\n",
    "\n",
    "print (\"#################################################\")\n",
    "\n",
    "# Dejar las notas de todos los estudiantes en una sola lista"
   ]
  },
  {
   "cell_type": "markdown",
   "metadata": {
    "id": "ZBcshXmZ7I89"
   },
   "source": [
    "## **Control de versiones**"
   ]
  },
  {
   "cell_type": "markdown",
   "metadata": {
    "id": "fH-RebRD8aTb"
   },
   "source": [
    "### **Contexto**"
   ]
  },
  {
   "cell_type": "markdown",
   "metadata": {
    "id": "SY0c3l1LeWZ9"
   },
   "source": [
    "Imaginemos el siguiente escenario:\n",
    "\n",
    "Estamos trabajando en un proyecto colaborativo y:\n",
    "* Alguien borra accidentalmente un archivo.\n",
    "* Alguien escribe en una versión antigua y sobreescribe los cambios recientes.\n",
    "* Alguien más quiere ver quién escribió o cuándo se hicieron los cambios.\n",
    "* Todos envían sus cambios por correo electrónico, y se pierden entre tantas versiones.\n",
    "\n",
    "**Para evitar estos problemas podemos usar herramientas que nos permitan:**\n",
    "\n",
    "* Guarda automáticamente cada versión de los archivos del proyecto.\n",
    "* Mostar quién hizo qué cambio y cuándo.\n",
    "* Permitir a todos trabajar en paralelo sin borrar el trabajo de los demás.\n",
    "* Fusionar los cambios automáticamente."
   ]
  },
  {
   "cell_type": "markdown",
   "metadata": {
    "id": "6Uh5K4mmVDT_"
   },
   "source": [
    "### **Git y GitHub**\n",
    "\n"
   ]
  },
  {
   "cell_type": "markdown",
   "metadata": {
    "id": "5XIS0kWVWurf"
   },
   "source": [
    "Git es un sistema de control de versiones local.\n",
    "\n",
    "GitHub permite colaborar en línea con otros, asegurando que todos los cambios estén sincronizados y almacenados de forma segura.\n",
    "\n",
    "Veamos el siguiente [ejemplo](https://drive.google.com/file/d/1_R02l5o49WvMOGg1j1Wgg8mm-Xtq9O1J/view?usp=sharing).\n",
    "\n",
    "**Opción 1: solo usar GitHub (en la nube)**\n",
    "* GitHub tiene su propio editor y herramientas web para realizar muchas de las acciones de Git: crear repositorios, editar archivos, hacer commits, fusionar ramas, etc.\n",
    "* Todo se maneja directamente desde la interfaz web o aplicaciones como GitHub Desktop.\n",
    "* No necesitamos  instalar Git localmente.\n",
    "* Ideal para personas que no están acostumbradas a usar terminales o comandos.\n",
    "* No tenemos acceso a las herramientas avanzadas de Git local, como revisión de cambios antes de hacer un commit.\n",
    "* Es difícil trabajar sin conexión a Internet.\n",
    "* Para proyectos grandes, gestionar cambios directamente en la web puede ser engorroso.\n",
    "\n",
    "**Opción 2: usar Git localmente y sincronizar con GitHub**\n",
    "* Git local se utiliza para gestionar los cambios en nuestro equipo.\n",
    "* GitHub actúa como un servicio de almacenamiento remoto y colaboración (subor cambios o descargar cambios de otros).\n",
    "* Permite el control total sobre el historial y los cambios en nuestra máquina.\n",
    "* Podemos trabajar sin conexión y sincronizar cuando tengamos  Internet.\n",
    "* Ideal para proyectos grandes o con múltiples colaboradores.\n",
    "* Requiere instalar Git y aprender comandos básicos.\n",
    "\n",
    "\n",
    "**¿Qué pasa si alguien solamente usa GitHub y otros usan Git localmente?**\n",
    "* Si alguien edita un archivo directamente en GitHub y otro usuario trabaja en el mismo archivo desde Git local, habrá conflictos cuando intenten fusionar los cambios.\n",
    "* Los usuarios locales pueden revisar sus cambios antes de enviarlos a GitHub, pero los usuarios que trabajan directamente en la nube no tienen este control detallado.\n",
    "* Sin Git local, no podemos trabajar fácilmente en ramas o usar herramientas de resolución de conflictos.\n",
    "* Si el proyecto es pequeño y las ediciones son simples, trabajar directamente en GitHub es suficiente."
   ]
  },
  {
   "cell_type": "markdown",
   "metadata": {
    "id": "gJQUfyRsVk5O"
   },
   "source": [
    "#### **¿Cómo configurar Git y GitHub?**"
   ]
  },
  {
   "cell_type": "markdown",
   "metadata": {},
   "source": []
  },
  {
   "cell_type": "markdown",
   "metadata": {
    "id": "-Sz6f2xSWgyr"
   },
   "source": [
    "> [Comandos](https://docs.google.com/spreadsheets/d/1OFx9zoJNwWwGRifCl5bwlgphFaeqbibL/edit?usp=sharing&ouid=115995864785264317183&rtpof=true&sd=true) para trabajar con Git y GitHub\n",
    "\n",
    ">[Vídeo](https://drive.google.com/file/d/1VDZUNhD74pSuPAasmOFY9FeSEwo7wjln/view?usp=sharing) para usar Git y GitHub en Windows\n",
    "\n",
    "> [Guía](https://docs.github.com/en/desktop/installing-and-authenticating-to-github-desktop/installing-github-desktop?platform=mac) para instalar GitHub Desktop  "
   ]
  },
  {
   "cell_type": "markdown",
   "metadata": {
    "id": "x49TA1dBV1vV"
   },
   "source": [
    "#### **Desafío**"
   ]
  },
  {
   "cell_type": "markdown",
   "metadata": {
    "id": "QxFQanAeW7MK"
   },
   "source": [
    "* Configurar una cuenta y repositorio en GitHub.\n",
    "* Instalar Git.\n",
    "* Conectar Git con GitHub."
   ]
  },
  {
   "cell_type": "markdown",
   "metadata": {
    "id": "gngM6S1-eMcr"
   },
   "source": [
    "## **Entornos virtuales**"
   ]
  },
  {
   "cell_type": "markdown",
   "metadata": {
    "id": "Nc1mTP5wSy6U"
   },
   "source": [
    "###**Qué son y para qué sirven**\n"
   ]
  },
  {
   "cell_type": "markdown",
   "metadata": {
    "id": "wXJZkZICd2TA"
   },
   "source": [
    "Un entorno virtual en Python es un espacio aislado en que podemos instalar librerías y dependencias necesarias para un proyecto sin afectar otros proyectos ni el sistema operativo.\n",
    "\n",
    "**¿Por qué usar entornos virtuales?**\n",
    "* Los entornos virtuales son esenciales para aislar las dependencias de un proyecto y evitar conflictos entre diferentes versiones de librerías.\n",
    "* Por ejemplo, imaginemos que tenemos dos proyectos: uno usa Pandas 2.2.3 y otro necesita Pandas 2.2.1. Si instalamos ambas versiones en la máquina, podríamos enfrentar errores al ejecutar el proyecto que no coincide con la versión instalada.\n",
    "* Con un entorno virtual para cada proyecto, podemos instalar la versión correcta de Pandas sin afectar los demás proyectos.\n",
    "* Esto asegura que cada entorno funcione de manera independiente, promoviendo estabilidad y reproducibilidad del código.\n",
    "\n"
   ]
  },
  {
   "cell_type": "markdown",
   "metadata": {
    "id": "soA6ciN9ZYXi"
   },
   "source": [
    "###**Ejemplos de entornos virtuales**"
   ]
  },
  {
   "cell_type": "markdown",
   "metadata": {
    "id": "qBEQ2KUDZk64"
   },
   "source": [
    "1. **Anaconda**\n",
    "\n",
    "Plataforma de distribución gratuita y de código abierto para Python y R, diseñada especialmente para la ciencia de datos, el aprendizaje automático y el análisis de datos. Incluye un conjunto de herramientas, librerías y entornos virtuales que facilitan la instalación y el manejo de dependencias para proyectos complejos.\n",
    "\n",
    "2. **Miniconda**\n",
    "* Es una versión ligera de Anaconda que incluye: un administrador de entornos virtuales (conda); una instalación mínima de Python.\n",
    "\n",
    "\n",
    "**Jupyter Notebook**\n",
    "* Es una aplicación web que permite crear y compartir documentos que contienen código, texto, gráficos y cálculos interactivos.\n",
    "* Ideal para análisis de datos y proyectos en Python.\n",
    "* Se puede ejecutar código por bloques (celdas), facilitando el trabajo interactivo."
   ]
  },
  {
   "cell_type": "markdown",
   "metadata": {
    "id": "mmFKe3pEZ972"
   },
   "source": [
    "###**Cómo funciona Python en los entornos virtuales**\n"
   ]
  },
  {
   "cell_type": "markdown",
   "metadata": {
    "id": "xzd_ZxsxZ_Y9"
   },
   "source": [
    "* Cuando se crea un entorno virtual, Python instala una copia de sí mismo y un espacio para instalar paquetes de forma aislada.\n",
    "* Python global: Es la instalación principal en nuestro equipo. Sirve como base para crear entornos virtuales.\n",
    "* Python en el entorno virtual: Cuando creamos un entorno virtual, este incluye:Una copia del intérprete de Python (misma versión que el global, salvo que especifiquemos otra); Un espacio independiente para instalar paquetes y librerías.\n",
    "\n"
   ]
  },
  {
   "cell_type": "markdown",
   "metadata": {
    "id": "5q6pvUfyaAwg"
   },
   "source": [
    "###**Diferencias y similitudes entre Google Colab y Jupyter Notebook**\n"
   ]
  },
  {
   "cell_type": "markdown",
   "metadata": {
    "id": "iAKkZi0caCDL"
   },
   "source": [
    "* Google Colab y Jupyter Notebook son herramientas que permiten escribir y ejecutar código en celdas interactivas, facilitando tareas de análisis de datos, aprendizaje automático y visualización.\n",
    "* Ambos ofrecen una interfaz amigable para combinar texto, gráficos y código.\n",
    "* Sin embargo, Colab funciona en la nube, lo que permite acceder desde cualquier dispositivo, compartir proyectos fácilmente y aprovechar recursos sin necesidad de hardware local potente.\n",
    "* En cambio, Jupyter Notebook se ejecuta localmente, lo que brinda mayor control sobre el entorno y las dependencias, pero requiere configurar Python y librerías en nuestro entorno local.\n",
    "\n",
    "\n"
   ]
  },
  {
   "cell_type": "markdown",
   "metadata": {
    "id": "BcfZxLK1aDal"
   },
   "source": [
    "####**Configuración de Miniconda y Jupyter Notebook**\n",
    "\n"
   ]
  },
  {
   "cell_type": "markdown",
   "metadata": {
    "id": "5GNBP45Iaa8X"
   },
   "source": [
    "> Guía con [comandos básicos](https://drive.google.com/file/d/1QWmaNqQYtmtLIDv8jcYkyzNQnTs3KZPB/view?usp=sharing)\n",
    "\n",
    "> Configuración en [Windows](https://drive.google.com/file/d/1IUvSgKrVRiyR3qZJbXNO7LQLSLkfzOWC/view?usp=sharing)\n",
    "\n",
    "> Configuración en [mac](https://www.youtube.com/watch?v=D7y88ZAGy3c)"
   ]
  },
  {
   "cell_type": "markdown",
   "metadata": {
    "id": "xdyuar7Bacg8"
   },
   "source": [
    "####**Desafío**"
   ]
  },
  {
   "cell_type": "markdown",
   "metadata": {
    "id": "x_v1ZTEJadoV"
   },
   "source": [
    "* Instalar miniconda.\n",
    "* Crear un entorno virtual.\n",
    "* Abrir Jupyter Notebook.\n",
    "* Escribir un código sencillo.\n",
    "* ¿Cómo respaldar mi notebook de Jupyter en Git y GitHub?\n",
    "* ¿Puedo abrir un cuaderno de Colab en Jupyter Notebook?"
   ]
  }
 ],
 "metadata": {
  "colab": {
   "collapsed_sections": [
    "ksDMQevI1ha-",
    "j4GSbWrO2NSH",
    "5viyn7TQ4m0u",
    "5_ospYK-ZCLS",
    "-2zJ73f1YYw8",
    "JgZO8oPu7ZFj",
    "ZBcshXmZ7I89",
    "fH-RebRD8aTb",
    "6Uh5K4mmVDT_",
    "x49TA1dBV1vV",
    "gngM6S1-eMcr",
    "Nc1mTP5wSy6U",
    "soA6ciN9ZYXi",
    "mmFKe3pEZ972",
    "5q6pvUfyaAwg",
    "BcfZxLK1aDal",
    "xdyuar7Bacg8"
   ],
   "provenance": [
    {
     "file_id": "1jA935OulK8-FCUyGB3bE5D0-UtlfdhsK",
     "timestamp": 1735851957027
    },
    {
     "file_id": "1sU2Ze2U-zuIB2-D6QouGVg_4j2-oiqaP",
     "timestamp": 1735307036803
    },
    {
     "file_id": "1LPnrbfFIHIdH8Rjhvi5amx-slBRY49IY",
     "timestamp": 1734957195922
    },
    {
     "file_id": "19hhp0lfgnGWzaxeqCA8MUPir3AezmN2y",
     "timestamp": 1734629030606
    }
   ]
  },
  "kernelspec": {
   "display_name": "Python 3",
   "name": "python3"
  },
  "language_info": {
   "name": "python"
  }
 },
 "nbformat": 4,
 "nbformat_minor": 0
}
